{
 "cells": [
  {
   "cell_type": "code",
   "execution_count": null,
   "id": "ee4dc2e1-7c50-4c9a-b731-f6c371ce7469",
   "metadata": {},
   "outputs": [],
   "source": [
    "import numpy as np\n",
    "import matplotlib.pyplot as plt\n",
    "import pandas as pd"
   ]
  },
  {
   "cell_type": "markdown",
   "id": "43b4cc3d-768b-4cb1-82ad-db17dbf50b4f",
   "metadata": {},
   "source": [
    "## Setting a plot style from a plot-style file (aka, a style sheet)\n",
    "\n",
    "***DISCLAIMER**: if you are running this Jupyter notebook on your own, we first did the plots in the cell below, and then came back to talk about this topic (and to run this cell)*\n",
    "\n",
    "It's very convenient to standardize some characteristics of your plots, like font size, resolution, or whether ticks on axes go out- or inwards.\n",
    "You can do this by using a plotsyle file, like the one found in this folder. Matplotlib uses a similar one to store all defaults. The file contains all possible\n",
    "settings, but in commented lines. If you want to change one, you must also uncomment it (removing the # sign before).\n",
    "\n",
    "Matplotlib also has some built-in styles you can choose from by simply using their names. The `default` one is there, but also others listed [on this page](https://matplotlib.org/stable/gallery/style_sheets/style_sheets_reference.html)."
   ]
  },
  {
   "cell_type": "code",
   "execution_count": null,
   "id": "cf848ffd-b4b8-4723-8f96-fe3c2473a14f",
   "metadata": {},
   "outputs": [],
   "source": [
    "plt.style.use('my_plotstyle.rc') # This file could also be somewhere else in your PC\n",
    "#plt.style.use('default') # If you mess up, you can always go back to defaults"
   ]
  },
  {
   "cell_type": "markdown",
   "id": "7b1da4f2-d3ef-4df7-98ba-8704e9880818",
   "metadata": {},
   "source": [
    "## Making a simple line plot\n",
    "The steps we take are the same for any kind of plot:\n",
    "\n",
    "0) load or create the data (numpy arrays work best, later we'll see about Pandas);\n",
    "1) create a **Figure object** and one or more **Axes objects**;\n",
    "2) draw the **plot(s) by using the corresponding methods of the Axes** object;\n",
    "3) customize the appearance of the Axes objects (i.e., the graph) by using other methods;\n",
    "4) save the Figure object by using its method."
   ]
  },
  {
   "cell_type": "code",
   "execution_count": null,
   "id": "37602d30-6f8d-408c-b2d7-bfad900e85d8",
   "metadata": {},
   "outputs": [],
   "source": [
    "# 0) Load the data (in this case into a numpy array)\n",
    "#----------------------------------------------------\n",
    "software = np.loadtxt(\n",
    "    'data/software_licenses.txt', \n",
    "    delimiter = ',',\n",
    "    skiprows = 1\n",
    ")\n",
    "\n",
    "intl_mobility = np.loadtxt(\n",
    "    'data/international_mobility.txt',\n",
    "    delimiter = ',',\n",
    "    skiprows = 1\n",
    ")\n",
    "\n",
    "# 1) Create a Figure and one Axes object\n",
    "#----------------------------------------\n",
    "# The plt.subplots() function returns TWO THINGS, in this order:\n",
    "#    - a Figure object;\n",
    "#    - one or more Axes objects in that Figure. If you created\n",
    "#      more than one Axes, they will have coordinates like a\n",
    "#      numpy array, but they will still be contained in a single\n",
    "#      variable.\n",
    "\n",
    "fig, ax = plt.subplots(1, 1, figsize=(13/2.54, 8/2.54), dpi=500)\n",
    "\n",
    "# The arguments of the function are all optional and, in order:\n",
    "#    - the number of rows;\n",
    "#    - the number of columns;\n",
    "#    - the figure size IN INCHES (I know, it sucks);\n",
    "#    - the resolution in dots-per-inch (dpi)\n",
    "# If you don't set a specific number of rows and columns, there\n",
    "# will only be one plot (one Axes object) in your figure.\n",
    "# If you don't set figure size and dpi, they are taken from the\n",
    "# *plotstyle.rc* file.\n",
    "\n",
    "\n",
    "# 2) Draw the plot by using a method of the Axes object\n",
    "#-------------------------------------------------------\n",
    "ax.plot(                    # the .plot() method creates line plots \n",
    "    software[:,0],          # these are the X coordinates of points\n",
    "    software[:,1]/10**6,    # these are the Y coordinates of points\n",
    "    #linestyle='-',          # this is the line style\n",
    "    #marker='o',             # this is the marker style\n",
    "    #color = 'k',            # this is the color of line and marker\n",
    "    label = 'Software licenses'      # this is for the legend\n",
    ")\n",
    "\n",
    "ax.plot(                \n",
    "    intl_mobility[:,0],          \n",
    "    intl_mobility[:,1]/10**6,    \n",
    "    #linestyle='--',          \n",
    "    #marker = 's',             \n",
    "    #color = 'grey',            \n",
    "    label = \"Students' intl. mobility\"\n",
    ")\n",
    "\n",
    "\n",
    "\n",
    "# 3) Customize the Axes with other methods\n",
    "#------------------------------------------\n",
    "# Set a grid and specify its style\n",
    "ax.grid(ls=':', lw=0.5) \n",
    "# Set the labels for the X and Y axes\n",
    "ax.set_xlabel('Year')\n",
    "ax.set_ylabel('Millions of €')\n",
    "# Set the title on top\n",
    "ax.set_title('Spending of the University of Pisa')\n",
    "# Create a legend\n",
    "ax.legend()\n",
    "\n",
    "\n",
    "# 4) Save the Figure object\n",
    "#---------------------------\n",
    "fig.tight_layout() # Optional, can sometimes better rearrange the space in your plot\n",
    "#fig.savefig('unipi_expenses.png') "
   ]
  },
  {
   "cell_type": "markdown",
   "id": "fa5007d2-4b18-4e60-9f7f-aaf4f38f062c",
   "metadata": {},
   "source": [
    "## What if I want more than one plot?"
   ]
  },
  {
   "cell_type": "code",
   "execution_count": null,
   "id": "350ab22a-bc65-45fb-9991-20ff7347efee",
   "metadata": {},
   "outputs": [],
   "source": [
    "# 0) Load the data (in this case into a numpy array)\n",
    "#----------------------------------------------------\n",
    "# We did this already, no need to do it again\n",
    "\n",
    "# 1) Create a Figure and one Axes object\n",
    "#----------------------------------------\n",
    "fig, axs = plt.subplots(1, 2, figsize=(13/2.54, 7/2.54), dpi=500)\n",
    "# Two columns!\n",
    "# The figsize is *the total one!*\n",
    "\n",
    "# 2) Draw the plots by using a method of the Axes objects\n",
    "#---------------------------------------------------------\n",
    "axs[0].plot(                # this is the first Axes (the one on the left)\n",
    "    software[:,0],          \n",
    "    software[:,1]/10**6,    \n",
    "    #linestyle='-',          \n",
    "    #marker = 'o',             \n",
    "    #color = 'black',            \n",
    ")\n",
    "\n",
    "axs[1].plot(                 # this is the second Axes (the one on the right)\n",
    "    intl_mobility[:,0],\n",
    "    intl_mobility[:,1]/10**6,\n",
    "    #linestyle='-',          \n",
    "    #marker = 'o',     \n",
    "    #color = 'black'\n",
    ")\n",
    "\n",
    "\n",
    "# 3) Customize the Axes with other methods\n",
    "#------------------------------------------\n",
    "axs[0].set_title('Software licenses')\n",
    "axs[1].set_title(\"Students' international mobility\")\n",
    "\n",
    "for i in range(2):\n",
    "    axs[i].grid(ls=':', lw=0.5) \n",
    "    axs[i].set_xlabel('Year')\n",
    "    axs[i].set_xticks(range(2014,2023,2))\n",
    "    \n",
    "axs[0].set_ylabel('Expenses [M€]')\n",
    "    \n",
    "\n",
    "# 4) Save the Figure object\n",
    "#---------------------------\n",
    "fig.tight_layout() # Optional, can sometimes better rearrange the space in your plot\n",
    "#fig.savefig('unipi_expenses.svg') "
   ]
  },
  {
   "cell_type": "markdown",
   "id": "d32eb897-4d88-4d8b-b3f9-dc33961b95bf",
   "metadata": {},
   "source": [
    "## And if I want to plot from a Pandas dataframe?"
   ]
  },
  {
   "cell_type": "code",
   "execution_count": null,
   "id": "cfba5553-b71e-4f56-984b-0a76a06f8f0a",
   "metadata": {},
   "outputs": [],
   "source": [
    "# Same data as before, but now in a dataframe\n",
    "grants = pd.read_csv('data/research_grants.txt', index_col='year')\n",
    "software = pd.read_csv('data/software_licenses.txt', index_col='year')\n",
    "df = pd.concat([grants, software], axis=1)\n",
    "df"
   ]
  },
  {
   "cell_type": "code",
   "execution_count": null,
   "id": "0bad8683-d49a-4821-b948-7b9f43cef1e4",
   "metadata": {},
   "outputs": [],
   "source": [
    "# I have some missing data, so say I interpolate linearly\n",
    "df['grants'] = df['grants'].interpolate() # Look at this super nice DataFrame method\n",
    "df"
   ]
  },
  {
   "cell_type": "code",
   "execution_count": null,
   "id": "71f609b0-1e74-4b32-92b9-8f83e216a91d",
   "metadata": {},
   "outputs": [],
   "source": [
    "# Say I want to plot the money spent every year on software licenses\n",
    "# as a percentage of money spent on post-docs.\n",
    "# First I calculate the data (and put it into a new column of the DataFrame)\n",
    "df['percentage'] = df['software']/df['grants']*100 \n",
    "df"
   ]
  },
  {
   "cell_type": "code",
   "execution_count": null,
   "id": "26ffeff3-3fdc-402b-89a3-7e39fbd727ad",
   "metadata": {},
   "outputs": [],
   "source": [
    "# If I create a plot using the DataFrame method we know, and put\n",
    "# the result in a variable, I can see check what type of data I got:\n",
    "ax = df['percentage'].plot(marker='o')\n",
    "type(ax)\n",
    "# It's a Matplotlib Axes object!"
   ]
  },
  {
   "cell_type": "code",
   "execution_count": null,
   "id": "f3aa4da1-6f7c-461b-84f5-c501744b4ead",
   "metadata": {},
   "outputs": [],
   "source": [
    "# This means that I can customize it using the same\n",
    "# methods that I would have used for plots done entirely\n",
    "# in Matplotlib\n",
    "ax = df['percentage'].plot(marker='o')\n",
    "ax.grid(ls=':', lw=0.5)\n",
    "ax.set_title('Expense for software licenses as percentage of expense for research grants')\n",
    "ax.set_ylabel('Percentage [%]')\n",
    "ax.set_xlabel('Year')\n",
    "\n",
    "# To save the plot you have to first get the Figure object:\n",
    "fig = ax.get_figure()\n",
    "# and then you can save it, same as before\n",
    "fig.savefig('percentage.png')"
   ]
  },
  {
   "cell_type": "code",
   "execution_count": null,
   "id": "b64db638-3857-47b4-8aa6-e4498c42c140",
   "metadata": {},
   "outputs": [],
   "source": []
  }
 ],
 "metadata": {
  "kernelspec": {
   "display_name": "Python 3 (ipykernel)",
   "language": "python",
   "name": "python3"
  },
  "language_info": {
   "codemirror_mode": {
    "name": "ipython",
    "version": 3
   },
   "file_extension": ".py",
   "mimetype": "text/x-python",
   "name": "python",
   "nbconvert_exporter": "python",
   "pygments_lexer": "ipython3",
   "version": "3.10.9"
  }
 },
 "nbformat": 4,
 "nbformat_minor": 5
}
