{
 "cells": [
  {
   "cell_type": "markdown",
   "id": "2d7adc17-2fc2-40e7-9064-50dff7a86566",
   "metadata": {},
   "source": [
    "# Think about the syntax"
   ]
  },
  {
   "cell_type": "markdown",
   "id": "836f32dd-e4ce-47ae-959e-8af741edb618",
   "metadata": {},
   "source": [
    "## TASK 1: take a list of numbers, and filter out all negative ones\n",
    "This could be useful to filter out values that are not valid from a list of instrumental readings"
   ]
  },
  {
   "cell_type": "code",
   "execution_count": 1,
   "id": "f81a4bd9-f7cb-4aa2-ae64-eaf7721ac4f4",
   "metadata": {
    "execution": {
     "iopub.execute_input": "2024-10-12T19:10:53.360762Z",
     "iopub.status.busy": "2024-10-12T19:10:53.360437Z",
     "iopub.status.idle": "2024-10-12T19:10:53.364738Z",
     "shell.execute_reply": "2024-10-12T19:10:53.363807Z",
     "shell.execute_reply.started": "2024-10-12T19:10:53.360744Z"
    }
   },
   "outputs": [
    {
     "name": "stdout",
     "output_type": "stream",
     "text": [
      "[10, 72, 9, 29, 21, 92, 86, 95, 26, 4, 4, 77, 91, 56, 53]\n",
      "[10, 72, 9, 29, 21, 92, 86, 95, 26, 4, 4, 77, 91, 56, 53]\n"
     ]
    }
   ],
   "source": [
    "original_list = [10, 72, -21, 9, 29,  21, -4, 92, 86, -20, 95, 26, -7, 4, -1, 4, 77, 91, 56, 53]\n",
    "filtered_list = [] # create an empty list for filtered values\n",
    "for number in original_list: # start a loop that covers the original list\n",
    "    if number >= 0: # check if the considered value is non-negative\n",
    "        filtered_list.append(number) # put the valid values in the filtered list\n",
    "print(filtered_list) # print the filtered list\n",
    "\n",
    "## BONUS: create the new list and put data inside in a single row of code\n",
    "filtered_list_bonus = [number for number in original_list if number >= 0] # it's a list comprehension!\n",
    "print(filtered_list_bonus)"
   ]
  },
  {
   "cell_type": "markdown",
   "id": "ab09265d-c2ec-4b53-b6d7-ea3660ddc275",
   "metadata": {},
   "source": [
    "## TASK 2: what's the difference between numpy arrays and lists?\n",
    "Create a list and a numpy array with the same data, then try some easy operations on them to see the different results"
   ]
  },
  {
   "cell_type": "code",
   "execution_count": 3,
   "id": "e026c139-5464-4aff-9abc-abd8a81547bf",
   "metadata": {
    "execution": {
     "iopub.execute_input": "2024-10-12T19:14:33.720254Z",
     "iopub.status.busy": "2024-10-12T19:14:33.720058Z",
     "iopub.status.idle": "2024-10-12T19:14:33.724348Z",
     "shell.execute_reply": "2024-10-12T19:14:33.723875Z",
     "shell.execute_reply.started": "2024-10-12T19:14:33.720242Z"
    }
   },
   "outputs": [
    {
     "name": "stdout",
     "output_type": "stream",
     "text": [
      "Multiplication by a scalar (3)\n",
      "[0, 1, 2, 3, 4, 5, 0, 1, 2, 3, 4, 5, 0, 1, 2, 3, 4, 5]\n",
      "[ 0  3  6  9 12 15]\n",
      "Summing a number (28.7)\n",
      "[28.7 29.7 30.7 31.7 32.7 33.7]\n",
      "Sum with oneself\n",
      "[0, 1, 2, 3, 4, 5, 0, 1, 2, 3, 4, 5]\n",
      "[ 0  2  4  6  8 10]\n"
     ]
    }
   ],
   "source": [
    "import numpy as np # import the necessary library\n",
    "my_list = [0, 1, 2, 3, 4, 5] # create a list with numbers from 0 to 5 \n",
    "my_array = np.array(my_list) # create a numpy array with the same values\n",
    "\n",
    "# multiply list and array for a scalar (a single number)\n",
    "print('Multiplication by a scalar (3)')\n",
    "print(my_list * 3)\n",
    "print(my_array * 3)\n",
    "\n",
    "# sum list and array to a scalar (a single number)\n",
    "print('Summing a number (28.7)')\n",
    "#print(my_list + 28.7) # THIS GIVES AN ERROR, I'VE COMMENTED IT. You can't sum lists and numbers \n",
    "print(my_array + 28.7)\n",
    "\n",
    "# sum list and array with themselves\n",
    "print('Sum with oneself')\n",
    "print(my_list + my_list)\n",
    "print(my_array + my_array)"
   ]
  },
  {
   "cell_type": "markdown",
   "id": "61db1377-7fa6-4970-bef6-1164e7c56992",
   "metadata": {},
   "source": [
    "## TASK 3: take a list of names and a list of phone numbers, and create a dictionary with entries name:phone number\n",
    "This is because we never did exercises with dictionaries"
   ]
  },
  {
   "cell_type": "code",
   "execution_count": 4,
   "id": "59642239-5db2-442a-b3f7-29ed1c5a8302",
   "metadata": {
    "execution": {
     "iopub.execute_input": "2024-10-12T19:14:39.263238Z",
     "iopub.status.busy": "2024-10-12T19:14:39.263018Z",
     "iopub.status.idle": "2024-10-12T19:14:39.266659Z",
     "shell.execute_reply": "2024-10-12T19:14:39.266232Z",
     "shell.execute_reply.started": "2024-10-12T19:14:39.263221Z"
    }
   },
   "outputs": [
    {
     "name": "stdout",
     "output_type": "stream",
     "text": [
      "{'Doctor': 555666, 'Rose': 555123, 'K9': 555555, 'Captain Jack': 555999}\n"
     ]
    }
   ],
   "source": [
    "names = ['Doctor', 'Rose', 'K9', 'Captain Jack']\n",
    "phone_numbers = [555666, 555123, 555555, 555999]\n",
    "phone_book = {} # create an empty dictionary where we'll store the numbers\n",
    "for i in range(len(names)): # start a loop that can be used to go over both names and phone numbers\n",
    "    phone_book[names[i]] = phone_numbers[i] # add entries to the dictionary\n",
    "print(phone_book) # print the dictionary"
   ]
  },
  {
   "cell_type": "code",
   "execution_count": null,
   "id": "fe727fb2-4410-40f5-ac1d-6f06bb6b8d65",
   "metadata": {},
   "outputs": [],
   "source": []
  }
 ],
 "metadata": {
  "kernelspec": {
   "display_name": "Python 3 (ipykernel)",
   "language": "python",
   "name": "python3"
  },
  "language_info": {
   "codemirror_mode": {
    "name": "ipython",
    "version": 3
   },
   "file_extension": ".py",
   "mimetype": "text/x-python",
   "name": "python",
   "nbconvert_exporter": "python",
   "pygments_lexer": "ipython3",
   "version": "3.10.9"
  }
 },
 "nbformat": 4,
 "nbformat_minor": 5
}
