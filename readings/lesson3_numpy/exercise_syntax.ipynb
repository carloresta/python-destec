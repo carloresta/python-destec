{
 "cells": [
  {
   "cell_type": "markdown",
   "id": "2d7adc17-2fc2-40e7-9064-50dff7a86566",
   "metadata": {},
   "source": [
    "# Think about the syntax"
   ]
  },
  {
   "cell_type": "markdown",
   "id": "836f32dd-e4ce-47ae-959e-8af741edb618",
   "metadata": {},
   "source": [
    "## TASK 1: take a list of numbers, and filter out all negative ones\n",
    "This could be useful to filter out values that are not valid from a list of instrumental readings"
   ]
  },
  {
   "cell_type": "code",
   "execution_count": null,
   "id": "f81a4bd9-f7cb-4aa2-ae64-eaf7721ac4f4",
   "metadata": {},
   "outputs": [],
   "source": [
    "original_list = [10, 72, -21, 9, 29,  21, -4, 92, 86, -20, 95, 26, -7, 4, -1, 4, 77, 91, 56, 53]\n",
    "filtered_list = # create an empty list for filtered values\n",
    "# start a loop that covers the original list\n",
    "    # check if the considered value is non-negative\n",
    "        # put the valid values in the filtered list\n",
    "# print the filtered list\n",
    "\n",
    "## BONUS: create the new list and put data inside in a single row of code"
   ]
  },
  {
   "cell_type": "markdown",
   "id": "ab09265d-c2ec-4b53-b6d7-ea3660ddc275",
   "metadata": {},
   "source": [
    "## TASK 2: what's the difference between numpy arrays and lists?\n",
    "Create a list and a numpy array with the same data, then try some easy operations on them to see the different results"
   ]
  },
  {
   "cell_type": "code",
   "execution_count": null,
   "id": "e026c139-5464-4aff-9abc-abd8a81547bf",
   "metadata": {},
   "outputs": [],
   "source": [
    "# import the necessary library\n",
    "# create a list with numbers from 0 to 5\n",
    "# create a numpy array with the same values\n",
    "# multiply list and array for a scalar (a single number)\n",
    "# sum list and array to a scalar (a single number)\n",
    "# sum list and array with themselves"
   ]
  },
  {
   "cell_type": "markdown",
   "id": "61db1377-7fa6-4970-bef6-1164e7c56992",
   "metadata": {},
   "source": [
    "## TASK 3: take a list of names and a list of phone numbers, and create a dictionary with entries name:phone number\n",
    "This is because we never did exercises with dictionaries"
   ]
  },
  {
   "cell_type": "code",
   "execution_count": null,
   "id": "59642239-5db2-442a-b3f7-29ed1c5a8302",
   "metadata": {},
   "outputs": [],
   "source": [
    "names = ['Doctor', 'Rose', 'K9', 'Captain Jack']\n",
    "phone_numbers = [555666, 555123, 555555, 555999]\n",
    "phone_book = # create an empty dictionary where we'll store the numbers\n",
    "# start a loop that can be used to go over both names and phone numbers\n",
    "    # add entries to the dictionary\n",
    "# print the dictionary"
   ]
  }
 ],
 "metadata": {
  "kernelspec": {
   "display_name": "Python 3 (ipykernel)",
   "language": "python",
   "name": "python3"
  },
  "language_info": {
   "codemirror_mode": {
    "name": "ipython",
    "version": 3
   },
   "file_extension": ".py",
   "mimetype": "text/x-python",
   "name": "python",
   "nbconvert_exporter": "python",
   "pygments_lexer": "ipython3",
   "version": "3.10.9"
  }
 },
 "nbformat": 4,
 "nbformat_minor": 5
}
