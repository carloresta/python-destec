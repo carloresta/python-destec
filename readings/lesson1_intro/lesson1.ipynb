{
 "cells": [
  {
   "cell_type": "markdown",
   "id": "e51e7922-d3c2-43d9-814b-255972de346d",
   "metadata": {
    "execution": {
     "iopub.execute_input": "2024-08-30T15:37:01.199815Z",
     "iopub.status.busy": "2024-08-30T15:37:01.199657Z",
     "iopub.status.idle": "2024-08-30T15:37:01.202868Z",
     "shell.execute_reply": "2024-08-30T15:37:01.201904Z",
     "shell.execute_reply.started": "2024-08-30T15:37:01.199803Z"
    }
   },
   "source": [
    "# Data types"
   ]
  },
  {
   "cell_type": "markdown",
   "id": "3f073d97-a971-4d4f-a2dd-0adaca0ceecc",
   "metadata": {},
   "source": [
    "## Integers and strings"
   ]
  },
  {
   "cell_type": "code",
   "execution_count": 1,
   "id": "d33946d8-0c69-483b-afd5-ab929e294429",
   "metadata": {
    "execution": {
     "iopub.execute_input": "2024-09-27T13:40:22.040503Z",
     "iopub.status.busy": "2024-09-27T13:40:22.040355Z",
     "iopub.status.idle": "2024-09-27T13:40:22.044681Z",
     "shell.execute_reply": "2024-09-27T13:40:22.044327Z",
     "shell.execute_reply.started": "2024-09-27T13:40:22.040491Z"
    }
   },
   "outputs": [
    {
     "data": {
      "text/plain": [
       "4"
      ]
     },
     "execution_count": 1,
     "metadata": {},
     "output_type": "execute_result"
    }
   ],
   "source": [
    "2 + 2"
   ]
  },
  {
   "cell_type": "code",
   "execution_count": 2,
   "id": "972ab813-eec1-4097-9d68-53b442f81d4f",
   "metadata": {
    "execution": {
     "iopub.execute_input": "2024-09-27T13:40:22.045230Z",
     "iopub.status.busy": "2024-09-27T13:40:22.045093Z",
     "iopub.status.idle": "2024-09-27T13:40:22.056458Z",
     "shell.execute_reply": "2024-09-27T13:40:22.056220Z",
     "shell.execute_reply.started": "2024-09-27T13:40:22.045220Z"
    }
   },
   "outputs": [
    {
     "data": {
      "text/plain": [
       "1.5"
      ]
     },
     "execution_count": 2,
     "metadata": {},
     "output_type": "execute_result"
    }
   ],
   "source": [
    "3/2"
   ]
  },
  {
   "cell_type": "code",
   "execution_count": 3,
   "id": "619f10ec-d4ad-4d8f-9ff1-3140b5a061ac",
   "metadata": {
    "execution": {
     "iopub.execute_input": "2024-09-27T13:40:22.057036Z",
     "iopub.status.busy": "2024-09-27T13:40:22.056813Z",
     "iopub.status.idle": "2024-09-27T13:40:22.059332Z",
     "shell.execute_reply": "2024-09-27T13:40:22.059067Z",
     "shell.execute_reply.started": "2024-09-27T13:40:22.057027Z"
    }
   },
   "outputs": [
    {
     "data": {
      "text/plain": [
       "int"
      ]
     },
     "execution_count": 3,
     "metadata": {},
     "output_type": "execute_result"
    }
   ],
   "source": [
    "type(2)"
   ]
  },
  {
   "cell_type": "code",
   "execution_count": 4,
   "id": "ab043394-4af4-4bfd-9426-7fddfb81f937",
   "metadata": {
    "execution": {
     "iopub.execute_input": "2024-09-27T13:40:23.505227Z",
     "iopub.status.busy": "2024-09-27T13:40:23.504851Z",
     "iopub.status.idle": "2024-09-27T13:40:23.510105Z",
     "shell.execute_reply": "2024-09-27T13:40:23.509522Z",
     "shell.execute_reply.started": "2024-09-27T13:40:23.505193Z"
    }
   },
   "outputs": [
    {
     "data": {
      "text/plain": [
       "float"
      ]
     },
     "execution_count": 4,
     "metadata": {},
     "output_type": "execute_result"
    }
   ],
   "source": [
    "type(1.5)"
   ]
  },
  {
   "cell_type": "code",
   "execution_count": 5,
   "id": "31e1fb92-1acb-4b28-b821-1fadad0c3a04",
   "metadata": {
    "execution": {
     "iopub.execute_input": "2024-09-27T13:40:24.014009Z",
     "iopub.status.busy": "2024-09-27T13:40:24.013426Z",
     "iopub.status.idle": "2024-09-27T13:40:24.019374Z",
     "shell.execute_reply": "2024-09-27T13:40:24.018221Z",
     "shell.execute_reply.started": "2024-09-27T13:40:24.013949Z"
    }
   },
   "outputs": [],
   "source": [
    "a = 'whaa' # You can put multiple lines of code in one cell\n",
    "b = 'aat?' # By the way, you can use pound signs to write comments\n",
    "# All text after a pound sign is ignored by Python"
   ]
  },
  {
   "cell_type": "code",
   "execution_count": 6,
   "id": "45df65b4-a211-4840-9229-c4e98c8e3b55",
   "metadata": {
    "execution": {
     "iopub.execute_input": "2024-09-27T13:40:24.393889Z",
     "iopub.status.busy": "2024-09-27T13:40:24.393454Z",
     "iopub.status.idle": "2024-09-27T13:40:24.400901Z",
     "shell.execute_reply": "2024-09-27T13:40:24.400318Z",
     "shell.execute_reply.started": "2024-09-27T13:40:24.393853Z"
    }
   },
   "outputs": [
    {
     "data": {
      "text/plain": [
       "'whaaaat?'"
      ]
     },
     "execution_count": 6,
     "metadata": {},
     "output_type": "execute_result"
    }
   ],
   "source": [
    "a + b"
   ]
  },
  {
   "cell_type": "code",
   "execution_count": 7,
   "id": "40cf8111-3973-4aaa-8442-16ee1c1b60d2",
   "metadata": {
    "execution": {
     "iopub.execute_input": "2024-09-27T13:40:25.530752Z",
     "iopub.status.busy": "2024-09-27T13:40:25.529571Z",
     "iopub.status.idle": "2024-09-27T13:40:25.682766Z",
     "shell.execute_reply": "2024-09-27T13:40:25.682201Z",
     "shell.execute_reply.started": "2024-09-27T13:40:25.530689Z"
    }
   },
   "outputs": [
    {
     "ename": "TypeError",
     "evalue": "can only concatenate str (not \"int\") to str",
     "output_type": "error",
     "traceback": [
      "\u001b[0;31m---------------------------------------------------------------------------\u001b[0m",
      "\u001b[0;31mTypeError\u001b[0m                                 Traceback (most recent call last)",
      "Cell \u001b[0;32mIn[7], line 1\u001b[0m\n\u001b[0;32m----> 1\u001b[0m \u001b[43ma\u001b[49m\u001b[43m \u001b[49m\u001b[38;5;241;43m+\u001b[39;49m\u001b[43m \u001b[49m\u001b[38;5;241;43m23\u001b[39;49m\n",
      "\u001b[0;31mTypeError\u001b[0m: can only concatenate str (not \"int\") to str"
     ]
    }
   ],
   "source": [
    "a + 23"
   ]
  },
  {
   "cell_type": "code",
   "execution_count": 8,
   "id": "04b576e3-47b4-49b7-b045-8afebe5258a7",
   "metadata": {
    "execution": {
     "iopub.execute_input": "2024-09-27T13:40:28.151549Z",
     "iopub.status.busy": "2024-09-27T13:40:28.151092Z",
     "iopub.status.idle": "2024-09-27T13:40:28.158054Z",
     "shell.execute_reply": "2024-09-27T13:40:28.157255Z",
     "shell.execute_reply.started": "2024-09-27T13:40:28.151499Z"
    }
   },
   "outputs": [
    {
     "data": {
      "text/plain": [
       "str"
      ]
     },
     "execution_count": 8,
     "metadata": {},
     "output_type": "execute_result"
    }
   ],
   "source": [
    "type(a)"
   ]
  },
  {
   "cell_type": "markdown",
   "id": "2ddfb77c-173d-41ac-b15b-5e4d52fc8aaa",
   "metadata": {},
   "source": [
    "## Booleans"
   ]
  },
  {
   "cell_type": "code",
   "execution_count": 9,
   "id": "c513997f-627c-4460-b8a3-69eb0667ea58",
   "metadata": {
    "execution": {
     "iopub.execute_input": "2024-09-27T13:40:29.758709Z",
     "iopub.status.busy": "2024-09-27T13:40:29.757712Z",
     "iopub.status.idle": "2024-09-27T13:40:29.762426Z",
     "shell.execute_reply": "2024-09-27T13:40:29.761878Z",
     "shell.execute_reply.started": "2024-09-27T13:40:29.758662Z"
    }
   },
   "outputs": [],
   "source": [
    "flag = True\n",
    "other_flag = False"
   ]
  },
  {
   "cell_type": "code",
   "execution_count": 10,
   "id": "14512ca1-2bac-4687-9d78-1eb9d3cafe70",
   "metadata": {
    "execution": {
     "iopub.execute_input": "2024-09-27T13:40:30.065322Z",
     "iopub.status.busy": "2024-09-27T13:40:30.064888Z",
     "iopub.status.idle": "2024-09-27T13:40:30.071478Z",
     "shell.execute_reply": "2024-09-27T13:40:30.071016Z",
     "shell.execute_reply.started": "2024-09-27T13:40:30.065283Z"
    }
   },
   "outputs": [
    {
     "data": {
      "text/plain": [
       "False"
      ]
     },
     "execution_count": 10,
     "metadata": {},
     "output_type": "execute_result"
    }
   ],
   "source": [
    "flag == other_flag"
   ]
  },
  {
   "cell_type": "code",
   "execution_count": 11,
   "id": "42c0648c-34bd-438f-a9d0-c45517afe63a",
   "metadata": {
    "execution": {
     "iopub.execute_input": "2024-09-27T13:40:30.365298Z",
     "iopub.status.busy": "2024-09-27T13:40:30.364735Z",
     "iopub.status.idle": "2024-09-27T13:40:30.373022Z",
     "shell.execute_reply": "2024-09-27T13:40:30.372209Z",
     "shell.execute_reply.started": "2024-09-27T13:40:30.365250Z"
    }
   },
   "outputs": [
    {
     "data": {
      "text/plain": [
       "bool"
      ]
     },
     "execution_count": 11,
     "metadata": {},
     "output_type": "execute_result"
    }
   ],
   "source": [
    "type(flag)"
   ]
  },
  {
   "cell_type": "markdown",
   "id": "2b6d4118-8893-41c1-a8e0-721971255267",
   "metadata": {
    "execution": {
     "iopub.execute_input": "2024-09-27T13:28:18.130227Z",
     "iopub.status.busy": "2024-09-27T13:28:18.129135Z",
     "iopub.status.idle": "2024-09-27T13:28:18.135383Z",
     "shell.execute_reply": "2024-09-27T13:28:18.134321Z",
     "shell.execute_reply.started": "2024-09-27T13:28:18.130169Z"
    }
   },
   "source": [
    "## Lists"
   ]
  },
  {
   "cell_type": "code",
   "execution_count": 12,
   "id": "698528a1-97c2-4e43-8026-6cbc1c967260",
   "metadata": {
    "execution": {
     "iopub.execute_input": "2024-09-27T13:40:31.224035Z",
     "iopub.status.busy": "2024-09-27T13:40:31.223646Z",
     "iopub.status.idle": "2024-09-27T13:40:31.229948Z",
     "shell.execute_reply": "2024-09-27T13:40:31.229104Z",
     "shell.execute_reply.started": "2024-09-27T13:40:31.224001Z"
    }
   },
   "outputs": [],
   "source": [
    "my_list = [9, 24.2, 'wow']"
   ]
  },
  {
   "cell_type": "code",
   "execution_count": 13,
   "id": "c1c00581-6e7f-4ff6-8425-2e5f88e7b5ec",
   "metadata": {
    "execution": {
     "iopub.execute_input": "2024-09-27T13:40:31.571920Z",
     "iopub.status.busy": "2024-09-27T13:40:31.571327Z",
     "iopub.status.idle": "2024-09-27T13:40:31.577755Z",
     "shell.execute_reply": "2024-09-27T13:40:31.577137Z",
     "shell.execute_reply.started": "2024-09-27T13:40:31.571863Z"
    }
   },
   "outputs": [
    {
     "data": {
      "text/plain": [
       "[9, 24.2, 'wow']"
      ]
     },
     "execution_count": 13,
     "metadata": {},
     "output_type": "execute_result"
    }
   ],
   "source": [
    "my_list"
   ]
  },
  {
   "cell_type": "code",
   "execution_count": 14,
   "id": "4a2c5b5a-9d04-4200-ad73-bbaa03fe3626",
   "metadata": {
    "execution": {
     "iopub.execute_input": "2024-09-27T13:40:31.851649Z",
     "iopub.status.busy": "2024-09-27T13:40:31.849745Z",
     "iopub.status.idle": "2024-09-27T13:40:31.855856Z",
     "shell.execute_reply": "2024-09-27T13:40:31.855267Z",
     "shell.execute_reply.started": "2024-09-27T13:40:31.851581Z"
    }
   },
   "outputs": [
    {
     "data": {
      "text/plain": [
       "list"
      ]
     },
     "execution_count": 14,
     "metadata": {},
     "output_type": "execute_result"
    }
   ],
   "source": [
    "type(my_list)"
   ]
  },
  {
   "cell_type": "code",
   "execution_count": 15,
   "id": "df0b9f46-f6ae-4cdc-9043-f4a944062a03",
   "metadata": {
    "execution": {
     "iopub.execute_input": "2024-09-27T13:40:32.160075Z",
     "iopub.status.busy": "2024-09-27T13:40:32.159600Z",
     "iopub.status.idle": "2024-09-27T13:40:32.168030Z",
     "shell.execute_reply": "2024-09-27T13:40:32.167177Z",
     "shell.execute_reply.started": "2024-09-27T13:40:32.160036Z"
    }
   },
   "outputs": [
    {
     "data": {
      "text/plain": [
       "9"
      ]
     },
     "execution_count": 15,
     "metadata": {},
     "output_type": "execute_result"
    }
   ],
   "source": [
    "my_list[0]"
   ]
  },
  {
   "cell_type": "code",
   "execution_count": 16,
   "id": "8c6d9b33-a7c8-4828-81e6-0b4405e603b8",
   "metadata": {
    "execution": {
     "iopub.execute_input": "2024-09-27T13:40:32.520102Z",
     "iopub.status.busy": "2024-09-27T13:40:32.519391Z",
     "iopub.status.idle": "2024-09-27T13:40:32.527637Z",
     "shell.execute_reply": "2024-09-27T13:40:32.526908Z",
     "shell.execute_reply.started": "2024-09-27T13:40:32.520043Z"
    }
   },
   "outputs": [
    {
     "data": {
      "text/plain": [
       "[9, 24.2]"
      ]
     },
     "execution_count": 16,
     "metadata": {},
     "output_type": "execute_result"
    }
   ],
   "source": [
    "my_list[0:2]"
   ]
  },
  {
   "cell_type": "markdown",
   "id": "3e430bd0-cb8d-4419-a822-38546bfb2370",
   "metadata": {},
   "source": [
    "## Dictionaries"
   ]
  },
  {
   "cell_type": "markdown",
   "id": "2e59b4b2-22fb-48ef-acdd-50c4a919225e",
   "metadata": {},
   "source": [
    "We didn't talk about dictionaries during the lesson, but they're pretty handy. A dictionary is a group of elements, like a list. But unlike a list, they are not ordered.\n",
    "\n",
    "Each element in a dictionary is identified with a string, called a **key**. To tell Python that you are creating a dictionary you put the elements between **curly brackets** { } and separate the elements with a **comma**, as in lists. The elements are **key**:**value** pairs, separated by a colon. "
   ]
  },
  {
   "cell_type": "code",
   "execution_count": 17,
   "id": "2a2d1f69-6fe8-4286-bf44-5b8aafddaaa9",
   "metadata": {
    "execution": {
     "iopub.execute_input": "2024-09-27T13:40:38.980501Z",
     "iopub.status.busy": "2024-09-27T13:40:38.980010Z",
     "iopub.status.idle": "2024-09-27T13:40:38.982731Z",
     "shell.execute_reply": "2024-09-27T13:40:38.982251Z",
     "shell.execute_reply.started": "2024-09-27T13:40:38.980486Z"
    }
   },
   "outputs": [],
   "source": [
    "my_dictionary = {\n",
    "    'anumber': 78.2,\n",
    "    'astring': 'nice',\n",
    "    'alist': [42, 'duck', 8]\n",
    "}"
   ]
  },
  {
   "cell_type": "markdown",
   "id": "69d048b2-c8fc-48d4-8b50-fca54a814465",
   "metadata": {},
   "source": [
    "As with lists, you can access the elements of a dictionary. Only this time you cannot use their position (so no indices), only their **keys**."
   ]
  },
  {
   "cell_type": "code",
   "execution_count": 18,
   "id": "bafd51f0-0159-4c19-a45c-fab13bb6f685",
   "metadata": {
    "execution": {
     "iopub.execute_input": "2024-09-27T13:40:39.735574Z",
     "iopub.status.busy": "2024-09-27T13:40:39.735139Z",
     "iopub.status.idle": "2024-09-27T13:40:39.742347Z",
     "shell.execute_reply": "2024-09-27T13:40:39.741304Z",
     "shell.execute_reply.started": "2024-09-27T13:40:39.735537Z"
    }
   },
   "outputs": [
    {
     "data": {
      "text/plain": [
       "[42, 'duck', 8]"
      ]
     },
     "execution_count": 18,
     "metadata": {},
     "output_type": "execute_result"
    }
   ],
   "source": [
    "my_dictionary['alist']"
   ]
  },
  {
   "cell_type": "code",
   "execution_count": 19,
   "id": "cc9d8de9-ae12-4e6c-837d-24085ec64485",
   "metadata": {
    "execution": {
     "iopub.execute_input": "2024-09-27T13:40:40.135319Z",
     "iopub.status.busy": "2024-09-27T13:40:40.134898Z",
     "iopub.status.idle": "2024-09-27T13:40:40.143121Z",
     "shell.execute_reply": "2024-09-27T13:40:40.141768Z",
     "shell.execute_reply.started": "2024-09-27T13:40:40.135283Z"
    }
   },
   "outputs": [
    {
     "data": {
      "text/plain": [
       "['duck', 8]"
      ]
     },
     "execution_count": 19,
     "metadata": {},
     "output_type": "execute_result"
    }
   ],
   "source": [
    "my_dictionary['alist'][1:3]"
   ]
  },
  {
   "cell_type": "code",
   "execution_count": 20,
   "id": "89cc0249-459f-4ed5-a98e-157b9080bf66",
   "metadata": {
    "execution": {
     "iopub.execute_input": "2024-09-27T13:40:40.702902Z",
     "iopub.status.busy": "2024-09-27T13:40:40.702524Z",
     "iopub.status.idle": "2024-09-27T13:40:40.710589Z",
     "shell.execute_reply": "2024-09-27T13:40:40.709417Z",
     "shell.execute_reply.started": "2024-09-27T13:40:40.702869Z"
    }
   },
   "outputs": [
    {
     "data": {
      "text/plain": [
       "dict"
      ]
     },
     "execution_count": 20,
     "metadata": {},
     "output_type": "execute_result"
    }
   ],
   "source": [
    "type(my_dictionary)"
   ]
  },
  {
   "cell_type": "markdown",
   "id": "8d108562-06fa-496c-a57d-e4ed0f034abb",
   "metadata": {
    "execution": {
     "iopub.execute_input": "2024-08-30T15:46:22.970114Z",
     "iopub.status.busy": "2024-08-30T15:46:22.969881Z",
     "iopub.status.idle": "2024-08-30T15:46:22.986485Z",
     "shell.execute_reply": "2024-08-30T15:46:22.985761Z",
     "shell.execute_reply.started": "2024-08-30T15:46:22.970095Z"
    }
   },
   "source": [
    "# Loops"
   ]
  },
  {
   "cell_type": "code",
   "execution_count": 22,
   "id": "0933e678-bdeb-4537-bcb7-fdfdbb97215d",
   "metadata": {
    "execution": {
     "iopub.execute_input": "2024-09-27T13:40:53.803649Z",
     "iopub.status.busy": "2024-09-27T13:40:53.803090Z",
     "iopub.status.idle": "2024-09-27T13:40:53.805835Z",
     "shell.execute_reply": "2024-09-27T13:40:53.805544Z",
     "shell.execute_reply.started": "2024-09-27T13:40:53.803629Z"
    }
   },
   "outputs": [
    {
     "name": "stdout",
     "output_type": "stream",
     "text": [
      "9\n",
      "24.2\n",
      "wow\n"
     ]
    }
   ],
   "source": [
    "i = 0\n",
    "while i < len(my_list):   # <---notice the colon!\n",
    "    print(my_list[i])   # <---remember the indentation: a TAB or four spaces, \n",
    "    i = i + 1  #     but don't mix the two"
   ]
  },
  {
   "cell_type": "markdown",
   "id": "fbd6c49e-b459-4a9b-a384-760631775076",
   "metadata": {},
   "source": [
    "## Conditional statements"
   ]
  },
  {
   "cell_type": "code",
   "execution_count": 24,
   "id": "79e75e9c-9946-4675-92b7-59fa15af1cda",
   "metadata": {
    "execution": {
     "iopub.execute_input": "2024-09-27T13:41:42.391236Z",
     "iopub.status.busy": "2024-09-27T13:41:42.390821Z",
     "iopub.status.idle": "2024-09-27T13:41:42.396672Z",
     "shell.execute_reply": "2024-09-27T13:41:42.395990Z",
     "shell.execute_reply.started": "2024-09-27T13:41:42.391203Z"
    }
   },
   "outputs": [
    {
     "name": "stdout",
     "output_type": "stream",
     "text": [
      "0 is even\n",
      "1 is odd\n",
      "2 is even\n",
      "3 is odd\n",
      "4 is even\n",
      "5 is odd\n",
      "6 is even\n",
      "7 is odd\n",
      "8 is even\n",
      "9 is odd\n",
      "10 is even\n",
      "11 is odd\n",
      "12 is even\n",
      "13 is odd\n",
      "14 is even\n",
      "15 is odd\n",
      "16 is even\n",
      "17 is odd\n",
      "18 is even\n",
      "19 is odd\n"
     ]
    }
   ],
   "source": [
    "i = 0\n",
    "while i < 20:\n",
    "    if i % 2 == 0: # <---there's a colon here as well\n",
    "        print(str(i) + ' is even') # And another tab or 4 spaces here\n",
    "    else:\n",
    "        print(str(i) + ' is odd') # Notice the str() function so we can sum\n",
    "    i = i + 1"
   ]
  },
  {
   "cell_type": "code",
   "execution_count": null,
   "id": "b933f5b5-fff4-49cc-9fac-a814b0f0c92d",
   "metadata": {},
   "outputs": [],
   "source": []
  }
 ],
 "metadata": {
  "kernelspec": {
   "display_name": "Python 3 (ipykernel)",
   "language": "python",
   "name": "python3"
  },
  "language_info": {
   "codemirror_mode": {
    "name": "ipython",
    "version": 3
   },
   "file_extension": ".py",
   "mimetype": "text/x-python",
   "name": "python",
   "nbconvert_exporter": "python",
   "pygments_lexer": "ipython3",
   "version": "3.10.9"
  }
 },
 "nbformat": 4,
 "nbformat_minor": 5
}
